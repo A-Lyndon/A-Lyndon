{
 "cells": [
  {
   "cell_type": "code",
   "execution_count": null,
   "id": "e4259c4a",
   "metadata": {},
   "outputs": [
    {
     "name": "stdout",
     "output_type": "stream",
     "text": [
      "Hello  Adam  You are  18  Years old\n"
     ]
    }
   ],
   "source": [
    "name= input(\"What is your name\")\n",
    "Current_Year=int(input(\"What is the current year?\"))\n",
    "User_Birth_Year=int(input(\"What year were you born\"))\n",
    "User_Age= Current_Year- User_Birth_Year\n",
    "print(\"Hello \",name, \" You are \", User_Age, \" Years old\")"
   ]
  },
  {
   "cell_type": "markdown",
   "id": "c125173a",
   "metadata": {},
   "source": [
    "## This Is My First Program In This Repository \n",
    "\n",
    "I have a small amount of experience from GCSE of Python programming, hence the mathematics and input functions. "
   ]
  }
 ],
 "metadata": {
  "kernelspec": {
   "display_name": "Python 3",
   "language": "python",
   "name": "python3"
  },
  "language_info": {
   "codemirror_mode": {
    "name": "ipython",
    "version": 3
   },
   "file_extension": ".py",
   "mimetype": "text/x-python",
   "name": "python",
   "nbconvert_exporter": "python",
   "pygments_lexer": "ipython3",
   "version": "3.13.3"
  }
 },
 "nbformat": 4,
 "nbformat_minor": 5
}
